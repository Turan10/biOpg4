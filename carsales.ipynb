{
 "cells": [
  {
   "cell_type": "markdown",
   "metadata": {},
   "source": [
    "The assignment of MP 4 is revised to fit our dataset that we are planning to be using for the final project.\n",
    "\n",
    "the revised assignment looks like this:\n",
    "\n",
    "###MINI PROJECT 4: MACHINE LEARNING FOR ANALYSIS AND PREDICTION OF CAR SALES\n",
    "\n",
    "### Objective\n",
    "To practice data analysis and prediction using classification and clustering algorithms, focusing on the dynamics of car sales.\n",
    "\n",
    "### Problem Statement\n",
    "Understanding the factors that influence car sales can provide valuable insights for manufacturers and dealers. Analyzing customer demographics, car features, and sales trends can help in developing strategies to boost sales.\n",
    "\n",
    "### Tasks\n",
    "\n",
    "### Data Wrangling and Exploration\n",
    "\n",
    "Load and explore the dataset to understand its structure. Clean the data if necessary, and perform an exploratory data analysis.\n",
    "Identify and select the most relevant features for predicting car sales, considering customer demographics, car specifications, and dealer information.\n",
    "\n",
    "### Supervised Machine Learning: Classification\n",
    "\n",
    "Train, test, and validate at least two machine learning models for classification to predict the likelihood of a car model being sold (e.g., high, medium, low likelihood).\n",
    "Assess the models' performance using appropriate metrics and recommend the most accurate model.\n",
    "\n",
    "### Unsupervised Machine Learning: Clustering\n",
    "\n",
    "Use clustering algorithms (e.g., K-Means) to segment the cars or customers into groups based on similarities in features or buying patterns.\n",
    "Evaluate the clustering quality (e.g., using silhouette scores) and suggest the most coherent cluster configuration.\n",
    "\n",
    "### Machine Learning Application\n",
    "\n",
    "Develop an interactive prototype (e.g., using Streamlit) that visualizes the analysis and model predictions.\n",
    "Incorporate a feature allowing users to input car or customer data to predict sales outcomes.\n",
    "Test the application with various inputs to evaluate its performance and user experience."
   ]
  },
  {
   "cell_type": "code",
   "execution_count": 1,
   "metadata": {},
   "outputs": [],
   "source": [
    "import pandas as pd\n",
    "import seaborn as sns\n",
    "import matplotlib.pyplot as plt\n",
    "import numpy as np\n",
    "\n",
    "from sklearn.preprocessing import StandardScaler\n",
    "\n",
    "from sklearn.preprocessing import LabelEncoder\n",
    "\n",
    "from sklearn.model_selection import train_test_split\n",
    "from sklearn.linear_model import LinearRegression\n",
    "from sklearn.metrics import r2_score, mean_squared_error\n",
    "from sklearn.preprocessing import PolynomialFeatures\n",
    "\n",
    "from sklearn.linear_model import LogisticRegression\n",
    "from sklearn.ensemble import RandomForestClassifier\n",
    "from sklearn.metrics import accuracy_score, classification_report, confusion_matrix\n"
   ]
  },
  {
   "cell_type": "code",
   "execution_count": 2,
   "metadata": {},
   "outputs": [],
   "source": [
    "df = pd.read_csv('data/data.csv')"
   ]
  },
  {
   "cell_type": "code",
   "execution_count": 3,
   "metadata": {},
   "outputs": [
    {
     "name": "stdout",
     "output_type": "stream",
     "text": [
      "         Car_id      Date Customer Name Gender  Annual Income  \\\n",
      "0  C_CND_000001  1/2/2022     Geraldine   Male          13500   \n",
      "1  C_CND_000002  1/2/2022           Gia   Male        1480000   \n",
      "2  C_CND_000003  1/2/2022        Gianna   Male        1035000   \n",
      "3  C_CND_000004  1/2/2022       Giselle   Male          13500   \n",
      "4  C_CND_000005  1/2/2022         Grace   Male        1465000   \n",
      "\n",
      "                           Dealer_Name   Company       Model  \\\n",
      "0  Buddy Storbeck's Diesel Service Inc      Ford  Expedition   \n",
      "1                     C & M Motors Inc     Dodge     Durango   \n",
      "2                          Capitol KIA  Cadillac    Eldorado   \n",
      "3               Chrysler of Tri-Cities    Toyota      Celica   \n",
      "4                    Chrysler Plymouth     Acura          TL   \n",
      "\n",
      "                      Engine Transmission       Color  Price ($)  Dealer_No   \\\n",
      "0  DoubleÂ Overhead Camshaft         Auto       Black      26000  06457-3834   \n",
      "1  DoubleÂ Overhead Camshaft         Auto       Black      19000  60504-7114   \n",
      "2          Overhead Camshaft       Manual         Red      31500  38701-8047   \n",
      "3          Overhead Camshaft       Manual  Pale White      14000  99301-3882   \n",
      "4  DoubleÂ Overhead Camshaft         Auto         Red      24500  53546-9427   \n",
      "\n",
      "  Body Style    Phone Dealer_Region  \n",
      "0        SUV  8264678    Middletown  \n",
      "1        SUV  6848189        Aurora  \n",
      "2  Passenger  7298798    Greenville  \n",
      "3        SUV  6257557         Pasco  \n",
      "4  Hatchback  7081483    Janesville  \n"
     ]
    }
   ],
   "source": [
    "# We will start out with displaying the first few rows of the data\n",
    "\n",
    "print(df.head())"
   ]
  },
  {
   "cell_type": "code",
   "execution_count": 4,
   "metadata": {},
   "outputs": [
    {
     "name": "stdout",
     "output_type": "stream",
     "text": [
      "       Annual Income     Price ($)         Phone\n",
      "count   2.390600e+04  23906.000000  2.390600e+04\n",
      "mean    8.308403e+05  28090.247846  7.497741e+06\n",
      "std     7.200064e+05  14788.687608  8.674920e+05\n",
      "min     1.008000e+04   1200.000000  6.000101e+06\n",
      "25%     3.860000e+05  18001.000000  6.746495e+06\n",
      "50%     7.350000e+05  23000.000000  7.496198e+06\n",
      "75%     1.175750e+06  34000.000000  8.248146e+06\n",
      "max     1.120000e+07  85800.000000  8.999579e+06\n"
     ]
    }
   ],
   "source": [
    "# Lets check for a summary of the data\n",
    "\n",
    "print(df.describe())"
   ]
  },
  {
   "cell_type": "code",
   "execution_count": 5,
   "metadata": {},
   "outputs": [
    {
     "name": "stdout",
     "output_type": "stream",
     "text": [
      "<class 'pandas.core.frame.DataFrame'>\n",
      "RangeIndex: 23906 entries, 0 to 23905\n",
      "Data columns (total 16 columns):\n",
      " #   Column         Non-Null Count  Dtype \n",
      "---  ------         --------------  ----- \n",
      " 0   Car_id         23906 non-null  object\n",
      " 1   Date           23906 non-null  object\n",
      " 2   Customer Name  23905 non-null  object\n",
      " 3   Gender         23906 non-null  object\n",
      " 4   Annual Income  23906 non-null  int64 \n",
      " 5   Dealer_Name    23906 non-null  object\n",
      " 6   Company        23906 non-null  object\n",
      " 7   Model          23906 non-null  object\n",
      " 8   Engine         23906 non-null  object\n",
      " 9   Transmission   23906 non-null  object\n",
      " 10  Color          23906 non-null  object\n",
      " 11  Price ($)      23906 non-null  int64 \n",
      " 12  Dealer_No      23906 non-null  object\n",
      " 13  Body Style     23906 non-null  object\n",
      " 14  Phone          23906 non-null  int64 \n",
      " 15  Dealer_Region  23906 non-null  object\n",
      "dtypes: int64(3), object(13)\n",
      "memory usage: 2.9+ MB\n",
      "None\n"
     ]
    }
   ],
   "source": [
    "# Lets now get some information regarding the data, as columns, data types, and non-null values\n",
    "\n",
    "print(df.info())"
   ]
  },
  {
   "cell_type": "code",
   "execution_count": 6,
   "metadata": {},
   "outputs": [
    {
     "name": "stdout",
     "output_type": "stream",
     "text": [
      "Car_id           0\n",
      "Date             0\n",
      "Customer Name    1\n",
      "Gender           0\n",
      "Annual Income    0\n",
      "Dealer_Name      0\n",
      "Company          0\n",
      "Model            0\n",
      "Engine           0\n",
      "Transmission     0\n",
      "Color            0\n",
      "Price ($)        0\n",
      "Dealer_No        0\n",
      "Body Style       0\n",
      "Phone            0\n",
      "Dealer_Region    0\n",
      "dtype: int64\n"
     ]
    }
   ],
   "source": [
    "# now that we have information about the data, we can start cleaning it up\n",
    "\n",
    "# We will start by checking for missing values\n",
    "\n",
    "print(df.isnull().sum())"
   ]
  },
  {
   "cell_type": "code",
   "execution_count": 7,
   "metadata": {},
   "outputs": [],
   "source": [
    "# We do have a missing value in Customer name, but because we need to anonymize the data, we will drop the column\n",
    "\n",
    "df = df.drop('Customer Name', axis=1)\n"
   ]
  },
  {
   "cell_type": "code",
   "execution_count": 8,
   "metadata": {},
   "outputs": [],
   "source": [
    "# To continue out path for anonymizing the data, we will drop the column that has no relevance for our analysis\n",
    "\n",
    "df = df.drop('Car_id', axis=1)\n",
    "df = df.drop('Phone', axis=1)\n",
    "df = df.drop('Dealer_No ', axis=1)\n"
   ]
  },
  {
   "cell_type": "code",
   "execution_count": 9,
   "metadata": {},
   "outputs": [
    {
     "name": "stdout",
     "output_type": "stream",
     "text": [
      "0\n"
     ]
    }
   ],
   "source": [
    "# Lets now check for duplicates \n",
    "\n",
    "print(df.duplicated().sum())"
   ]
  },
  {
   "cell_type": "code",
   "execution_count": 10,
   "metadata": {},
   "outputs": [
    {
     "name": "stdout",
     "output_type": "stream",
     "text": [
      "       Annual Income     Price ($)\n",
      "count   2.390600e+04  23906.000000\n",
      "mean    8.308403e+05  28090.247846\n",
      "std     7.200064e+05  14788.687608\n",
      "min     1.008000e+04   1200.000000\n",
      "25%     3.860000e+05  18001.000000\n",
      "50%     7.350000e+05  23000.000000\n",
      "75%     1.175750e+06  34000.000000\n",
      "max     1.120000e+07  85800.000000\n"
     ]
    }
   ],
   "source": [
    "# Summary statistics for numerical columns\n",
    "print(df.describe())"
   ]
  },
  {
   "cell_type": "code",
   "execution_count": 11,
   "metadata": {},
   "outputs": [],
   "source": [
    "# Categorizing 'Sale_Likelihood' based on 'Price ($)' quantiles\n",
    "df['Sale_Likelihood'] = pd.qcut(df['Price ($)'], q=4, labels=['low', 'medium-low', 'medium-high', 'high'])\n"
   ]
  },
  {
   "cell_type": "code",
   "execution_count": 12,
   "metadata": {},
   "outputs": [
    {
     "name": "stdout",
     "output_type": "stream",
     "text": [
      "Gender\n",
      "Male      18798\n",
      "Female     5108\n",
      "Name: count, dtype: int64\n"
     ]
    }
   ],
   "source": [
    "# Lets try to understand the distribution of the data\n",
    "\n",
    "print(df['Gender'].value_counts())\n"
   ]
  },
  {
   "cell_type": "code",
   "execution_count": 13,
   "metadata": {},
   "outputs": [
    {
     "name": "stdout",
     "output_type": "stream",
     "text": [
      "Model\n",
      "Diamante         418\n",
      "Silhouette       411\n",
      "Prizm            411\n",
      "Passat           391\n",
      "Ram Pickup       383\n",
      "                ... \n",
      "Mirage            19\n",
      "Alero             18\n",
      "RX300             15\n",
      "Avalon            15\n",
      "Sebring Conv.     10\n",
      "Name: count, Length: 154, dtype: int64\n"
     ]
    }
   ],
   "source": [
    "print(df['Model'].value_counts())"
   ]
  },
  {
   "cell_type": "code",
   "execution_count": 14,
   "metadata": {},
   "outputs": [
    {
     "name": "stdout",
     "output_type": "stream",
     "text": [
      "Dealer_Region\n",
      "Austin        4135\n",
      "Janesville    3821\n",
      "Scottsdale    3433\n",
      "Pasco         3131\n",
      "Aurora        3130\n",
      "Middletown    3128\n",
      "Greenville    3128\n",
      "Name: count, dtype: int64\n"
     ]
    }
   ],
   "source": [
    "print(df['Dealer_Region'].value_counts())"
   ]
  },
  {
   "cell_type": "markdown",
   "metadata": {},
   "source": [
    "To identify the most important features for predicting car sales from our dataset, we'll consider the nature of each feature and its potential influence on car purchasing decisions.\n",
    "While a detailed statistical analysis or feature importance analysis using machine learning models would provide the most accurate insight, we can make some initial assessments based on general knowledge.\n",
    "\n",
    "When looking at the data available we can prioritize what would consider being the most relevant for predicting car sales, and this is listed below with the highest priority on top till the lowest in the buttom:\n",
    "\n",
    "Annual Income: Affects purchasing power.\n",
    "\n",
    "Price : Directly influences buying decisions.\n",
    "\n",
    "Company: Brand loyalty and perception impact sales.\n",
    "\n",
    "Model: Different models have varying levels of demand.\n",
    "\n",
    "Dealer_Region: Regional sales trends can highlight demand patterns.\n",
    "\n",
    "Body Style: Matches with customer lifestyle needs.\n",
    "\n",
    "Engine: Preferences for performance, efficiency, or eco-friendliness.\n",
    "\n",
    "Transmission: Some buyers have strong preferences.\n",
    "\n",
    "Gender: May influence preference but not a primary sales driver.\n",
    "\n",
    "Color: A matter of personal taste, less impactful on overall sales."
   ]
  },
  {
   "cell_type": "markdown",
   "metadata": {},
   "source": [
    "After this prioritzation list we can now create a subset for the most relevant columns for predicting car sales. \n",
    "We will in this subset exclude Engine,Gender and Color. Engine because in the data we have the engine part is mainly focused on camshafts for valvets, and not weather the size or type of the engine. Gender and color is also excluded as they possible may have an impact on car sales, they were less impactful compared to the other features. "
   ]
  },
  {
   "cell_type": "code",
   "execution_count": 15,
   "metadata": {},
   "outputs": [
    {
     "name": "stdout",
     "output_type": "stream",
     "text": [
      "   Annual Income   Company       Model  Price ($) Dealer_Region Body Style  \\\n",
      "0          13500      Ford  Expedition      26000    Middletown        SUV   \n",
      "1        1480000     Dodge     Durango      19000        Aurora        SUV   \n",
      "2        1035000  Cadillac    Eldorado      31500    Greenville  Passenger   \n",
      "3          13500    Toyota      Celica      14000         Pasco        SUV   \n",
      "4        1465000     Acura          TL      24500    Janesville  Hatchback   \n",
      "\n",
      "  Transmission  \n",
      "0         Auto  \n",
      "1         Auto  \n",
      "2       Manual  \n",
      "3       Manual  \n",
      "4         Auto  \n"
     ]
    }
   ],
   "source": [
    "features = ['Annual Income', 'Company', 'Model', 'Price ($)', 'Dealer_Region', 'Body Style', 'Transmission']\n",
    "df_selected_features = df[features]\n",
    "\n",
    "\n",
    "print(df_selected_features.head())"
   ]
  },
  {
   "cell_type": "code",
   "execution_count": 16,
   "metadata": {},
   "outputs": [
    {
     "data": {
      "image/png": "[encoded data removed]",
      "text/plain": [
       "<Figure size 640x480 with 1 Axes>"
      ]
     },
     "metadata": {},
     "output_type": "display_data"
    },
    {
     "data": {
      "image/png": "[encoded data removed]",
      "text/plain": [
       "<Figure size 640x480 with 1 Axes>"
      ]
     },
     "metadata": {},
     "output_type": "display_data"
    }
   ],
   "source": [
    "# Histogram for Annual Income\n",
    "sns.histplot(df['Annual Income'], kde=True)\n",
    "plt.title('Distribution of Annual Income')\n",
    "plt.xlabel('Annual Income')\n",
    "plt.ylabel('Frequency')\n",
    "plt.show()\n",
    "\n",
    "# Boxplot for Price ($)\n",
    "sns.boxplot(x=df['Price ($)'])\n",
    "plt.title('Boxplot of Car Prices')\n",
    "plt.xlabel('Price ($)')\n",
    "plt.show()"
   ]
  },
  {
   "cell_type": "code",
   "execution_count": 17,
   "metadata": {},
   "outputs": [
    {
     "data": {
      "image/png": "[encoded data removed]",
      "text/plain": [
       "<Figure size 800x600 with 1 Axes>"
      ]
     },
     "metadata": {},
     "output_type": "display_data"
    }
   ],
   "source": [
    "# Lets create a boxplot to understand the distribution of the price in relation to gender\n",
    "\n",
    "plt.figure(figsize=(8, 6))\n",
    "sns.boxplot(x='Gender', y='Price ($)', data=df)\n",
    "plt.title('Price Distribution by Gender')\n",
    "plt.xlabel('Gender')\n",
    "plt.ylabel('Price ($)')\n",
    "plt.show()"
   ]
  },
  {
   "cell_type": "code",
   "execution_count": 18,
   "metadata": {},
   "outputs": [
    {
     "name": "stdout",
     "output_type": "stream",
     "text": [
      "Annual Income\n",
      "13500      5273\n",
      "1100000     162\n",
      "600000      160\n",
      "800000      151\n",
      "1300000     148\n",
      "           ... \n",
      "2145000       1\n",
      "3171000       1\n",
      "1134000       1\n",
      "706750        1\n",
      "1369000       1\n",
      "Name: count, Length: 2508, dtype: int64\n"
     ]
    }
   ],
   "source": [
    "print(df['Annual Income'].value_counts())"
   ]
  },
  {
   "cell_type": "code",
   "execution_count": 19,
   "metadata": {},
   "outputs": [
    {
     "data": {
      "image/png": "[encoded data removed]",
      "text/plain": [
       "<Figure size 640x480 with 1 Axes>"
      ]
     },
     "metadata": {},
     "output_type": "display_data"
    }
   ],
   "source": [
    "# Bar chart for Company\n",
    "sns.countplot(y=df['Company'], order = df['Company'].value_counts().index)\n",
    "plt.title('Car Sales by Company')\n",
    "plt.xlabel('Count')\n",
    "plt.ylabel('Company')\n",
    "plt.show()"
   ]
  },
  {
   "cell_type": "code",
   "execution_count": 20,
   "metadata": {},
   "outputs": [
    {
     "data": {
      "image/png": "[encoded data removed]",
      "text/plain": [
       "<Figure size 640x480 with 2 Axes>"
      ]
     },
     "metadata": {},
     "output_type": "display_data"
    }
   ],
   "source": [
    "corr_matrix = df[['Annual Income', 'Price ($)']].corr()\n",
    "sns.heatmap(corr_matrix, annot=True, cmap='coolwarm')\n",
    "plt.title('Correlation Matrix for Numeric Features')\n",
    "plt.show()\n"
   ]
  },
  {
   "cell_type": "code",
   "execution_count": 21,
   "metadata": {},
   "outputs": [
    {
     "data": {
      "image/png": "[encoded data removed]",
      "text/plain": [
       "<Figure size 640x480 with 1 Axes>"
      ]
     },
     "metadata": {},
     "output_type": "display_data"
    }
   ],
   "source": [
    "# Example: Creating a 'Sale Month' feature from 'Date'\n",
    "df['Sale Month'] = pd.to_datetime(df['Date']).dt.month\n",
    "\n",
    "# Visualizing sales by month\n",
    "sns.countplot(x=df['Sale Month'])\n",
    "plt.title('Car Sales by Month')\n",
    "plt.xlabel('Month')\n",
    "plt.ylabel('Count')\n",
    "plt.show()"
   ]
  },
  {
   "cell_type": "code",
   "execution_count": 22,
   "metadata": {},
   "outputs": [],
   "source": [
    "# Identifying outliers in 'Annual Income' for example\n",
    "q1, q3 = df['Annual Income'].quantile([0.25, 0.75])\n",
    "iqr = q3 - q1\n",
    "lower_bound = q1 - 1.5 * iqr\n",
    "upper_bound = q3 + 1.5 * iqr\n",
    "\n",
    "# These are the outliers saved in a new dataframe if we want to use them\n",
    "df_filtered = df[(df['Annual Income'] > lower_bound) & (df['Annual Income'] < upper_bound)]\n"
   ]
  },
  {
   "cell_type": "code",
   "execution_count": 23,
   "metadata": {},
   "outputs": [
    {
     "data": {
      "text/html": [
       "<div>\n",
       "<style scoped>\n",
       "    .dataframe tbody tr th:only-of-type {\n",
       "        vertical-align: middle;\n",
       "    }\n",
       "\n",
       "    .dataframe tbody tr th {\n",
       "        vertical-align: top;\n",
       "    }\n",
       "\n",
       "    .dataframe thead th {\n",
       "        text-align: right;\n",
       "    }\n",
       "</style>\n",
       "<table border=\"1\" class=\"dataframe\">\n",
       "  <thead>\n",
       "    <tr style=\"text-align: right;\">\n",
       "      <th></th>\n",
       "      <th>12622</th>\n",
       "      <th>14649</th>\n",
       "      <th>14580</th>\n",
       "      <th>10151</th>\n",
       "      <th>19206</th>\n",
       "      <th>11171</th>\n",
       "      <th>23694</th>\n",
       "      <th>12704</th>\n",
       "      <th>22079</th>\n",
       "      <th>5383</th>\n",
       "    </tr>\n",
       "  </thead>\n",
       "  <tbody>\n",
       "    <tr>\n",
       "      <th>Annual Income</th>\n",
       "      <td>1706000</td>\n",
       "      <td>1001000</td>\n",
       "      <td>631000</td>\n",
       "      <td>515000</td>\n",
       "      <td>706000</td>\n",
       "      <td>13500</td>\n",
       "      <td>1650000</td>\n",
       "      <td>1865000</td>\n",
       "      <td>620000</td>\n",
       "      <td>598000</td>\n",
       "    </tr>\n",
       "    <tr>\n",
       "      <th>Company</th>\n",
       "      <td>Nissan</td>\n",
       "      <td>Mercedes-B</td>\n",
       "      <td>Cadillac</td>\n",
       "      <td>Jeep</td>\n",
       "      <td>Saturn</td>\n",
       "      <td>Buick</td>\n",
       "      <td>Chevrolet</td>\n",
       "      <td>Saturn</td>\n",
       "      <td>Jaguar</td>\n",
       "      <td>Chevrolet</td>\n",
       "    </tr>\n",
       "    <tr>\n",
       "      <th>Model</th>\n",
       "      <td>Quest</td>\n",
       "      <td>SLK</td>\n",
       "      <td>Seville</td>\n",
       "      <td>Grand Cherokee</td>\n",
       "      <td>LW</td>\n",
       "      <td>Park Avenue</td>\n",
       "      <td>Lumina</td>\n",
       "      <td>LW</td>\n",
       "      <td>S-Type</td>\n",
       "      <td>Prizm</td>\n",
       "    </tr>\n",
       "    <tr>\n",
       "      <th>Price ($)</th>\n",
       "      <td>19601</td>\n",
       "      <td>17100</td>\n",
       "      <td>44000</td>\n",
       "      <td>21001</td>\n",
       "      <td>13000</td>\n",
       "      <td>45000</td>\n",
       "      <td>42000</td>\n",
       "      <td>13501</td>\n",
       "      <td>16000</td>\n",
       "      <td>16000</td>\n",
       "    </tr>\n",
       "    <tr>\n",
       "      <th>Dealer_Region</th>\n",
       "      <td>Austin</td>\n",
       "      <td>Aurora</td>\n",
       "      <td>Janesville</td>\n",
       "      <td>Middletown</td>\n",
       "      <td>Austin</td>\n",
       "      <td>Middletown</td>\n",
       "      <td>Aurora</td>\n",
       "      <td>Janesville</td>\n",
       "      <td>Aurora</td>\n",
       "      <td>Janesville</td>\n",
       "    </tr>\n",
       "    <tr>\n",
       "      <th>Body Style</th>\n",
       "      <td>SUV</td>\n",
       "      <td>Passenger</td>\n",
       "      <td>Hardtop</td>\n",
       "      <td>SUV</td>\n",
       "      <td>Hatchback</td>\n",
       "      <td>Hatchback</td>\n",
       "      <td>Passenger</td>\n",
       "      <td>Hatchback</td>\n",
       "      <td>Passenger</td>\n",
       "      <td>Hardtop</td>\n",
       "    </tr>\n",
       "    <tr>\n",
       "      <th>Transmission</th>\n",
       "      <td>Manual</td>\n",
       "      <td>Manual</td>\n",
       "      <td>Manual</td>\n",
       "      <td>Manual</td>\n",
       "      <td>Manual</td>\n",
       "      <td>Manual</td>\n",
       "      <td>Manual</td>\n",
       "      <td>Manual</td>\n",
       "      <td>Auto</td>\n",
       "      <td>Manual</td>\n",
       "    </tr>\n",
       "  </tbody>\n",
       "</table>\n",
       "</div>"
      ],
      "text/plain": [
       "                 12622       14649       14580           10151      19206  \\\n",
       "Annual Income  1706000     1001000      631000          515000     706000   \n",
       "Company         Nissan  Mercedes-B    Cadillac            Jeep     Saturn   \n",
       "Model            Quest         SLK     Seville  Grand Cherokee         LW   \n",
       "Price ($)        19601       17100       44000           21001      13000   \n",
       "Dealer_Region   Austin      Aurora  Janesville      Middletown     Austin   \n",
       "Body Style         SUV   Passenger     Hardtop             SUV  Hatchback   \n",
       "Transmission    Manual      Manual      Manual          Manual     Manual   \n",
       "\n",
       "                     11171      23694       12704      22079       5383   \n",
       "Annual Income        13500    1650000     1865000     620000      598000  \n",
       "Company              Buick  Chevrolet      Saturn     Jaguar   Chevrolet  \n",
       "Model          Park Avenue     Lumina          LW     S-Type       Prizm  \n",
       "Price ($)            45000      42000       13501      16000       16000  \n",
       "Dealer_Region   Middletown     Aurora  Janesville     Aurora  Janesville  \n",
       "Body Style       Hatchback  Passenger   Hatchback  Passenger     Hardtop  \n",
       "Transmission        Manual     Manual      Manual       Auto      Manual  "
      ]
     },
     "execution_count": 23,
     "metadata": {},
     "output_type": "execute_result"
    }
   ],
   "source": [
    "df_selected_features.sample(10).T"
   ]
  },
  {
   "cell_type": "code",
   "execution_count": 24,
   "metadata": {},
   "outputs": [],
   "source": [
    "# Applying one hot encoding to the categorical columns\n",
    "\n",
    "df_one_hot = pd.get_dummies(df, columns=['Company', 'Model', 'Dealer_Region', 'Body Style', 'Transmission'])\n",
    "\n",
    "# if machine learning doesnt work, we can try to convert the boolean values to integers\n",
    "\n",
    "#df_one_hot = df_one_hot.astype(int)"
   ]
  },
  {
   "cell_type": "code",
   "execution_count": 25,
   "metadata": {},
   "outputs": [
    {
     "name": "stdout",
     "output_type": "stream",
     "text": [
      "       Date Gender  Annual Income                          Dealer_Name  \\\n",
      "0  1/2/2022   Male          13500  Buddy Storbeck's Diesel Service Inc   \n",
      "1  1/2/2022   Male        1480000                     C & M Motors Inc   \n",
      "2  1/2/2022   Male        1035000                          Capitol KIA   \n",
      "3  1/2/2022   Male          13500               Chrysler of Tri-Cities   \n",
      "4  1/2/2022   Male        1465000                    Chrysler Plymouth   \n",
      "\n",
      "                      Engine       Color  Price ($) Sale_Likelihood  \\\n",
      "0  DoubleÂ Overhead Camshaft       Black      26000     medium-high   \n",
      "1  DoubleÂ Overhead Camshaft       Black      19000      medium-low   \n",
      "2          Overhead Camshaft         Red      31500     medium-high   \n",
      "3          Overhead Camshaft  Pale White      14000             low   \n",
      "4  DoubleÂ Overhead Camshaft         Red      24500     medium-high   \n",
      "\n",
      "   Sale Month  Company_Acura  ...  Dealer_Region_Middletown  \\\n",
      "0           1          False  ...                      True   \n",
      "1           1          False  ...                     False   \n",
      "2           1          False  ...                     False   \n",
      "3           1          False  ...                     False   \n",
      "4           1           True  ...                     False   \n",
      "\n",
      "   Dealer_Region_Pasco  Dealer_Region_Scottsdale  Body Style_Hardtop  \\\n",
      "0                False                     False               False   \n",
      "1                False                     False               False   \n",
      "2                False                     False               False   \n",
      "3                 True                     False               False   \n",
      "4                False                     False               False   \n",
      "\n",
      "   Body Style_Hatchback  Body Style_Passenger  Body Style_SUV  \\\n",
      "0                 False                 False            True   \n",
      "1                 False                 False            True   \n",
      "2                 False                  True           False   \n",
      "3                 False                 False            True   \n",
      "4                  True                 False           False   \n",
      "\n",
      "   Body Style_Sedan  Transmission_Auto  Transmission_Manual  \n",
      "0             False               True                False  \n",
      "1             False               True                False  \n",
      "2             False              False                 True  \n",
      "3             False              False                 True  \n",
      "4             False               True                False  \n",
      "\n",
      "[5 rows x 207 columns]\n"
     ]
    }
   ],
   "source": [
    "print(df_one_hot.head())"
   ]
  },
  {
   "cell_type": "code",
   "execution_count": 26,
   "metadata": {},
   "outputs": [
    {
     "name": "stdout",
     "output_type": "stream",
     "text": [
      "       Date Gender  Annual Income                          Dealer_Name  \\\n",
      "0  1/2/2022   Male          13500  Buddy Storbeck's Diesel Service Inc   \n",
      "1  1/2/2022   Male        1480000                     C & M Motors Inc   \n",
      "2  1/2/2022   Male        1035000                          Capitol KIA   \n",
      "3  1/2/2022   Male          13500               Chrysler of Tri-Cities   \n",
      "4  1/2/2022   Male        1465000                    Chrysler Plymouth   \n",
      "\n",
      "                      Engine       Color  Price ($) Sale_Likelihood  \\\n",
      "0  DoubleÂ Overhead Camshaft       Black      26000     medium-high   \n",
      "1  DoubleÂ Overhead Camshaft       Black      19000      medium-low   \n",
      "2          Overhead Camshaft         Red      31500     medium-high   \n",
      "3          Overhead Camshaft  Pale White      14000             low   \n",
      "4  DoubleÂ Overhead Camshaft         Red      24500     medium-high   \n",
      "\n",
      "   Sale Month  Company_Acura  ...  Dealer_Region_Middletown  \\\n",
      "0           1              0  ...                         1   \n",
      "1           1              0  ...                         0   \n",
      "2           1              0  ...                         0   \n",
      "3           1              0  ...                         0   \n",
      "4           1              1  ...                         0   \n",
      "\n",
      "   Dealer_Region_Pasco  Dealer_Region_Scottsdale  Body Style_Hardtop  \\\n",
      "0                    0                         0                   0   \n",
      "1                    0                         0                   0   \n",
      "2                    0                         0                   0   \n",
      "3                    1                         0                   0   \n",
      "4                    0                         0                   0   \n",
      "\n",
      "   Body Style_Hatchback  Body Style_Passenger  Body Style_SUV  \\\n",
      "0                     0                     0               1   \n",
      "1                     0                     0               1   \n",
      "2                     0                     1               0   \n",
      "3                     0                     0               1   \n",
      "4                     1                     0               0   \n",
      "\n",
      "   Body Style_Sedan  Transmission_Auto  Transmission_Manual  \n",
      "0                 0                  1                    0  \n",
      "1                 0                  1                    0  \n",
      "2                 0                  0                    1  \n",
      "3                 0                  0                    1  \n",
      "4                 0                  1                    0  \n",
      "\n",
      "[5 rows x 207 columns]\n"
     ]
    }
   ],
   "source": [
    "# Convert all boolean columns to integers\n",
    "for column in df_one_hot.columns:\n",
    "    if df_one_hot[column].dtype == 'bool':\n",
    "        df_one_hot[column] = df_one_hot[column].astype(int)\n",
    "\n",
    "\n",
    "print(df_one_hot.head())"
   ]
  },
  {
   "cell_type": "code",
   "execution_count": 27,
   "metadata": {},
   "outputs": [
    {
     "data": {
      "text/plain": [
       "Dealer_Region\n",
       "Austin        4135\n",
       "Janesville    3821\n",
       "Scottsdale    3433\n",
       "Pasco         3131\n",
       "Aurora        3130\n",
       "Middletown    3128\n",
       "Greenville    3128\n",
       "Name: count, dtype: int64"
      ]
     },
     "execution_count": 27,
     "metadata": {},
     "output_type": "execute_result"
    }
   ],
   "source": [
    "# Check for number of different regions\n",
    "\n",
    "df_selected_features['Dealer_Region'].value_counts()"
   ]
  },
  {
   "cell_type": "code",
   "execution_count": 28,
   "metadata": {},
   "outputs": [
    {
     "name": "stdout",
     "output_type": "stream",
     "text": [
      "  Dealer_Region  City_Population\n",
      "0    Middletown            47108\n",
      "1        Aurora           389347\n",
      "2    Greenville            72095\n",
      "3         Pasco            78871\n",
      "4    Janesville            65942\n"
     ]
    }
   ],
   "source": [
    "#We will now create a new column called 'City_Population' and map the population of the city to the region\n",
    "\n",
    "population_mapping = {\n",
    "    'Austin': 964177,\n",
    "    'Janesville': 65942,\n",
    "    'Scottsdale': 242753,\n",
    "    'Pasco': 78871,\n",
    "    'Aurora': 389347,\n",
    "    'Middletown': 47108,\n",
    "    'Greenville': 72095\n",
    "}\n",
    "\n",
    "df['City_Population'] = df['Dealer_Region'].map(population_mapping)\n",
    "\n",
    "# Display the new column in correlation with the dealer region\n",
    "dealer_region_and_population = df[['Dealer_Region', 'City_Population']]\n",
    "print(dealer_region_and_population.head())"
   ]
  },
  {
   "cell_type": "markdown",
   "metadata": {},
   "source": [
    "### Supervised machine learning\n",
    "lets now try to use the data we have gathered to predict the sales likelyhood. We will do this based on the data we have about the price of a car and the avg. income to predict how likely it is a car is going to be sold, going by low, medium and high, likelyhood."
   ]
  },
  {
   "cell_type": "markdown",
   "metadata": {},
   "source": [
    "## udkommenteret\n",
    "def categorize_sales(row):\n",
    "    if row['Price ($)'] < row['Annual Income'] * 0.3:\n",
    "        return 'high'\n",
    "    elif row['Price ($)'] < row['Annual Income'] * 0.6:\n",
    "        return 'medium'\n",
    "    else:\n",
    "        return 'low'\n",
    "\n",
    "df['Sale_Likelihood'] = df.apply(categorize_sales, axis=1)\n",
    "\n",
    "print(df.columns)\n",
    "\n",
    "// ud kommenteret kode, erstattet med quantile classification men kan måske bruges senere - Vivek\n",
    "\n"
   ]
  },
  {
   "cell_type": "code",
   "execution_count": 29,
   "metadata": {},
   "outputs": [],
   "source": [
    "label_encoder = LabelEncoder()\n",
    "df_one_hot['Sale_Likelihood'] = label_encoder.fit_transform(df_one_hot['Sale_Likelihood'])"
   ]
  },
  {
   "cell_type": "code",
   "execution_count": 30,
   "metadata": {
    "scrolled": false
   },
   "outputs": [],
   "source": [
    "X = df_one_hot.drop(['Date', 'Gender', 'Dealer_Name', 'Color', 'Engine','Sale_Likelihood'], axis=1)\n",
    "y = df_one_hot['Sale_Likelihood'] "
   ]
  },
  {
   "cell_type": "code",
   "execution_count": 31,
   "metadata": {},
   "outputs": [],
   "source": [
    "df_one_hot['Sale_Likelihood'] = df['Sale_Likelihood']"
   ]
  },
  {
   "cell_type": "code",
   "execution_count": 32,
   "metadata": {},
   "outputs": [],
   "source": [
    "# Splitting data into training and testing sets\n",
    "X_train, X_test, y_train_encoded, y_test_encoded = train_test_split(X, y, test_size=0.2, random_state=42)"
   ]
  },
  {
   "cell_type": "markdown",
   "metadata": {},
   "source": [
    "# before training the models we, standerise our features, since they each have their own \"scale\", this way every feature has a more balanced influence on the model\n",
    ">>> from sklearn.preprocessing import StandardScaler\n",
    "sc= StandardScaler()\n",
    "X_train=sc.fit_transform(X_train)\n",
    "X_test=sc.transform(X_test)\n"
   ]
  },
  {
   "cell_type": "code",
   "execution_count": 33,
   "metadata": {},
   "outputs": [],
   "source": [
    "log_reg = LogisticRegression()\n",
    "log_reg.fit(X_train, y_train_encoded)\n",
    "log_reg_predictions_encoded = log_reg.predict(X_test)"
   ]
  },
  {
   "cell_type": "code",
   "execution_count": 34,
   "metadata": {
    "scrolled": false
   },
   "outputs": [],
   "source": [
    "rf_classifier = RandomForestClassifier()\n",
    "rf_classifier.fit(X_train, y_train_encoded)\n",
    "rf_predictions_encoded = rf_classifier.predict(X_test)"
   ]
  },
  {
   "cell_type": "code",
   "execution_count": 35,
   "metadata": {},
   "outputs": [
    {
     "name": "stdout",
     "output_type": "stream",
     "text": [
      "Model: Logistic Regression\n",
      "Accuracy: 0.36616478460895024\n",
      "Classification Report:\n",
      "               precision    recall  f1-score   support\n",
      "\n",
      "           0       0.35      0.89      0.51      1174\n",
      "           1       0.58      0.29      0.39      1256\n",
      "           2       0.23      0.13      0.16      1127\n",
      "           3       0.34      0.16      0.22      1225\n",
      "\n",
      "    accuracy                           0.37      4782\n",
      "   macro avg       0.38      0.37      0.32      4782\n",
      "weighted avg       0.38      0.37      0.32      4782\n",
      "\n",
      "Confusion Matrix:\n",
      " [[1046   12   78   38]\n",
      " [ 474  364  200  218]\n",
      " [ 776   83  145  123]\n",
      " [ 655  164  210  196]] \n",
      "\n",
      "Model: Random Forest\n",
      "Accuracy: 0.999581764951903\n",
      "Classification Report:\n",
      "               precision    recall  f1-score   support\n",
      "\n",
      "           0       1.00      1.00      1.00      1174\n",
      "           1       1.00      1.00      1.00      1256\n",
      "           2       1.00      1.00      1.00      1127\n",
      "           3       1.00      1.00      1.00      1225\n",
      "\n",
      "    accuracy                           1.00      4782\n",
      "   macro avg       1.00      1.00      1.00      4782\n",
      "weighted avg       1.00      1.00      1.00      4782\n",
      "\n",
      "Confusion Matrix:\n",
      " [[1174    0    0    0]\n",
      " [   0 1256    0    0]\n",
      " [   0    0 1127    0]\n",
      " [   1    0    1 1223]] \n",
      "\n"
     ]
    }
   ],
   "source": [
    "# Evaluate models\n",
    "for model, predictions_encoded in [('Logistic Regression', log_reg_predictions_encoded), ('Random Forest', rf_predictions_encoded)]:\n",
    "    print(f\"Model: {model}\")\n",
    "    print(\"Accuracy:\", accuracy_score(y_test_encoded, predictions_encoded))\n",
    "    print(\"Classification Report:\\n\", classification_report(y_test_encoded, predictions_encoded))\n",
    "    print(\"Confusion Matrix:\\n\", confusion_matrix(y_test_encoded, predictions_encoded), \"\\n\")"
   ]
  },
  {
   "attachments": {},
   "cell_type": "markdown",
   "metadata": {},
   "source": []
  },
  {
   "cell_type": "code",
   "execution_count": null,
   "metadata": {},
   "outputs": [],
   "source": []
  }
 ],
 "metadata": {
  "kernelspec": {
   "display_name": "Python 3 (ipykernel)",
   "language": "python",
   "name": "python3"
  },
  "language_info": {
   "codemirror_mode": {
    "name": "ipython",
    "version": 3
   },
   "file_extension": ".py",
   "mimetype": "text/x-python",
   "name": "python",
   "nbconvert_exporter": "python",
   "pygments_lexer": "ipython3",
   "version": "3.11.5"
  }
 },
 "nbformat": 4,
 "nbformat_minor": 2
}
